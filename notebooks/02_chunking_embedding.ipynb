{
 "cells": [
  {
   "cell_type": "code",
   "execution_count": 2,
   "id": "230a607c",
   "metadata": {},
   "outputs": [],
   "source": [
    "import os\n",
    "import pandas as pd\n",
    "from langchain.text_splitter import RecursiveCharacterTextSplitter\n",
    "from sentence_transformers import SentenceTransformer\n",
    "import faiss\n",
    "import numpy as np\n",
    "import pickle"
   ]
  },
  {
   "cell_type": "markdown",
   "id": "1456d960",
   "metadata": {},
   "source": [
    "# Load cleaned data"
   ]
  },
  {
   "cell_type": "code",
   "execution_count": 6,
   "id": "d8c62655",
   "metadata": {},
   "outputs": [],
   "source": [
    "df = pd.read_csv('../data/processed/filtered_complaints.csv')\n"
   ]
  },
  {
   "cell_type": "markdown",
   "id": "afb07b85",
   "metadata": {},
   "source": [
    "### Chunking strategy"
   ]
  },
  {
   "cell_type": "code",
   "execution_count": 7,
   "id": "d80b0154",
   "metadata": {},
   "outputs": [],
   "source": [
    "# Chunking strategy\n",
    "chunk_size = 300  # Experimented and found a balance between context and granularity\n",
    "chunk_overlap = 50\n",
    "\n",
    "splitter = RecursiveCharacterTextSplitter(\n",
    "    chunk_size=chunk_size,\n",
    "    chunk_overlap=chunk_overlap\n",
    ")\n",
    "\n",
    "# Prepare chunks and metadata\n",
    "chunks = []\n",
    "metadatas = []\n",
    "for idx, row in df.iterrows():\n",
    "    text = str(row['cleaned_narrative'])\n",
    "    splits = splitter.split_text(text)\n",
    "    for i, chunk in enumerate(splits):\n",
    "        chunks.append(chunk)\n",
    "        metadatas.append({\n",
    "            \"complaint_id\": idx,\n",
    "            \"product\": row['Product'],\n",
    "            \"chunk_index\": i\n",
    "        })"
   ]
  },
  {
   "cell_type": "markdown",
   "id": "6031e132",
   "metadata": {},
   "source": [
    "### Embedding model"
   ]
  },
  {
   "cell_type": "code",
   "execution_count": 8,
   "id": "3ec7ae40",
   "metadata": {},
   "outputs": [
    {
     "name": "stderr",
     "output_type": "stream",
     "text": [
      "Batches: 100%|██████████| 256/256 [01:09<00:00,  3.70it/s]\n"
     ]
    }
   ],
   "source": [
    "model_name = \"sentence-transformers/all-MiniLM-L6-v2\"\n",
    "embedder = SentenceTransformer(model_name)\n",
    "embeddings = embedder.encode(chunks, show_progress_bar=True, convert_to_numpy=True)"
   ]
  },
  {
   "cell_type": "markdown",
   "id": "677bfa13",
   "metadata": {},
   "source": [
    "### Build FAISS index"
   ]
  },
  {
   "cell_type": "code",
   "execution_count": 9,
   "id": "f9df5494",
   "metadata": {},
   "outputs": [],
   "source": [
    "dim = embeddings.shape[1]\n",
    "index = faiss.IndexFlatL2(dim)\n",
    "index.add(embeddings)"
   ]
  },
  {
   "cell_type": "markdown",
   "id": "5b0465b4",
   "metadata": {},
   "source": [
    "#### Persist vector store and metadata"
   ]
  },
  {
   "cell_type": "code",
   "execution_count": 10,
   "id": "41845f44",
   "metadata": {},
   "outputs": [
    {
     "name": "stdout",
     "output_type": "stream",
     "text": [
      "Indexed 8180 chunks. Vector store saved in vector_store/\n"
     ]
    }
   ],
   "source": [
    "os.makedirs(\"vector_store\", exist_ok=True)\n",
    "faiss.write_index(index, \"vector_store/complaints_faiss.index\")\n",
    "with open(\"vector_store/metadata.pkl\", \"wb\") as f:\n",
    "    pickle.dump(metadatas, f)\n",
    "\n",
    "print(f\"Indexed {len(chunks)} chunks. Vector store saved in vector_store/\")"
   ]
  },
  {
   "cell_type": "markdown",
   "id": "85d72c08",
   "metadata": {},
   "source": [
    "## Text Chunking and Embedding Strategy\n",
    "\n",
    "To enable efficient semantic search, we split each cleaned complaint narrative into overlapping text chunks using LangChain's `RecursiveCharacterTextSplitter`. After experimenting with different parameters, we chose a `chunk_size` of 300 characters and a `chunk_overlap` of 50. This balance preserves context within each chunk while ensuring long narratives are not truncated, and short ones are not split unnecessarily.\n",
    "\n",
    "For embedding, we used the `sentence-transformers/all-MiniLM-L6-v2` model. This model is lightweight, fast, and provides strong performance for semantic similarity tasks, making it well-suited for large-scale complaint datasets. Each chunk's embedding is stored in a FAISS vector store, along with metadata (complaint ID, product, chunk index) to enable traceability from search results back to the original complaint."
   ]
  }
 ],
 "metadata": {
  "kernelspec": {
   "display_name": "venv",
   "language": "python",
   "name": "python3"
  },
  "language_info": {
   "codemirror_mode": {
    "name": "ipython",
    "version": 3
   },
   "file_extension": ".py",
   "mimetype": "text/x-python",
   "name": "python",
   "nbconvert_exporter": "python",
   "pygments_lexer": "ipython3",
   "version": "3.10.14"
  }
 },
 "nbformat": 4,
 "nbformat_minor": 5
}
